{
 "cells": [
  {
   "cell_type": "markdown",
   "metadata": {},
   "source": [
    "# Use a Fixed Deterministic Policy to Control Pendulum-v0\n",
    "\n",
    "### Policy\n",
    "\n",
    "Let the observation be $(x,y,\\omega)=(\\cos{\\theta},\\sin{\\theta},\\omega)$. We have $\\theta=\\begin{cases}\\arcsin{y},&x\\ge0\\\\-\\arcsin{y}+\\pi,&x<0\\text{ and }y>0\\\\-\\arcsin{y}-\\pi,&x<0\\text{ and }y<0.\\end{cases}$\n",
    "\n",
    "If $\\theta\\ge{0}$, action $=\\begin{cases}+2&\\theta<-0.3\\omega\\text{ or }0.03{(\\omega-2.5)}^2+1<\\theta<0.15{(\\omega+3)}^2+2\\\\-2,&\\text{otherwise}\\end{cases}$. If $\\theta<0$, use symmetric to deterimine the action.\n",
    "\n",
    "### Test"
   ]
  },
  {
   "cell_type": "code",
   "execution_count": 1,
   "metadata": {},
   "outputs": [
    {
     "data": {
      "text/plain": [
       "[0]"
      ]
     },
     "execution_count": 1,
     "metadata": {},
     "output_type": "execute_result"
    }
   ],
   "source": [
    "import numpy as np\n",
    "import gym\n",
    "np.random.seed(0)\n",
    "env = gym.make('Pendulum-v0')\n",
    "env.seed(0)"
   ]
  },
  {
   "cell_type": "code",
   "execution_count": 2,
   "metadata": {},
   "outputs": [],
   "source": [
    "class Agent:\n",
    "    def decide(self, observation):\n",
    "        x, y, angle_velocity = observation\n",
    "        flip = (y < 0.)\n",
    "        if flip:\n",
    "            y *= -1. # now y >= 0\n",
    "            angle_velocity *= -1.\n",
    "        angle = np.arcsin(y)\n",
    "        if x < 0.:\n",
    "            angle = np.pi - angle\n",
    "        if (angle < -0.3 * angle_velocity) or \\\n",
    "                (angle > 0.03 * (angle_velocity - 2.5) ** 2. + 1. and \\\n",
    "                angle < 0.15 * (angle_velocity + 3.) ** 2. + 2.):\n",
    "            force = 2.\n",
    "        else:\n",
    "            force = -2.\n",
    "        if flip:\n",
    "            force *= -1.\n",
    "        action = np.array([force,])\n",
    "        return action\n",
    "\n",
    "agent = Agent()"
   ]
  },
  {
   "cell_type": "code",
   "execution_count": 3,
   "metadata": {},
   "outputs": [],
   "source": [
    "def play_once(env, agent):\n",
    "    observation = env.reset()\n",
    "    episode_reward = 0.\n",
    "    while True:\n",
    "        action = agent.decide(observation)\n",
    "        observation, reward, done, _ = env.step(action)\n",
    "        episode_reward += reward\n",
    "        if done:\n",
    "            break\n",
    "    return episode_reward"
   ]
  },
  {
   "cell_type": "markdown",
   "metadata": {},
   "source": [
    "Test 100 episodes"
   ]
  },
  {
   "cell_type": "code",
   "execution_count": 4,
   "metadata": {},
   "outputs": [
    {
     "name": "stdout",
     "output_type": "stream",
     "text": [
      "average episode rewards = -145.09\n"
     ]
    }
   ],
   "source": [
    "episode_rewards = [play_once(env, agent) for _ in range(100)]\n",
    "print('average episode rewards = {:.2f}'.format(np.mean(episode_rewards)))"
   ]
  },
  {
   "cell_type": "code",
   "execution_count": 5,
   "metadata": {},
   "outputs": [
    {
     "name": "stdout",
     "output_type": "stream",
     "text": [
      "average episode reward = -145.18 +- 8.51\n"
     ]
    }
   ],
   "source": [
    "average_episode_rewards = []\n",
    "for _ in range(100):\n",
    "    episode_rewards = [play_once(env, agent) for _ in range(100)]\n",
    "    average_episode_reward = np.mean(episode_rewards)    \n",
    "    average_episode_rewards.append(average_episode_reward)\n",
    "mean, std = np.mean(average_episode_rewards), np.std(average_episode_rewards)\n",
    "print('average episode reward = {:.2f} +- {:.2f}'.format(mean, std))"
   ]
  },
  {
   "cell_type": "code",
   "execution_count": 6,
   "metadata": {},
   "outputs": [],
   "source": [
    "env.close()"
   ]
  }
 ],
 "metadata": {
  "kernelspec": {
   "display_name": "Python 3",
   "language": "python",
   "name": "python3"
  },
  "language_info": {
   "codemirror_mode": {
    "name": "ipython",
    "version": 3
   },
   "file_extension": ".py",
   "mimetype": "text/x-python",
   "name": "python",
   "nbconvert_exporter": "python",
   "pygments_lexer": "ipython3",
   "version": "3.8.3"
  }
 },
 "nbformat": 4,
 "nbformat_minor": 2
}
