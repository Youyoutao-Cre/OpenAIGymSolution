{
 "cells": [
  {
   "cell_type": "markdown",
   "metadata": {},
   "source": [
    "# Use a Fixed Deterministic Policy to Control Acrobot-v1\n",
    "\n",
    "### Policy\n",
    "\n",
    "Given the observation be $(x_0,y_0,x_1,y_1,\\omega_0,\\omega_1)$, action\n",
    "$=\\begin{cases}\n",
    "0,&\\omega_1<-0.3\n",
    "\\\\\n",
    "0,&-0.3\\le\\omega_1\\le0.3\\text{ and }y_1+x_0y_1+x_1y_0>0\n",
    "\\\\\n",
    "2,&-0.3\\le\\omega_1\\le0.3\\text{ and }y_1+x_0y_1+x_1y_0\\le0\n",
    "\\\\\n",
    "2,&\\omega_1>0.3\n",
    ".\\end{cases}$\n",
    "\n",
    "### Test"
   ]
  },
  {
   "cell_type": "code",
   "execution_count": 1,
   "metadata": {},
   "outputs": [
    {
     "data": {
      "text/plain": [
       "[0]"
      ]
     },
     "execution_count": 1,
     "metadata": {},
     "output_type": "execute_result"
    }
   ],
   "source": [
    "import numpy as np\n",
    "import gym\n",
    "np.random.seed(0)\n",
    "env = gym.make('Acrobot-v1')\n",
    "env.seed(0)"
   ]
  },
  {
   "cell_type": "code",
   "execution_count": 2,
   "metadata": {},
   "outputs": [],
   "source": [
    "class Agent:\n",
    "    def decide(self, observation):\n",
    "        x0, y0, x1, y1, v0, v1 = observation\n",
    "        if v1 < -0.3:\n",
    "            action = 0\n",
    "        elif v1 > 0.3:\n",
    "            action = 2\n",
    "        else:\n",
    "            y = y1 + x0 * y1 + x1 * y0\n",
    "            if y > 0.:\n",
    "                action = 0\n",
    "            else:\n",
    "                action = 2\n",
    "        return action\n",
    "\n",
    "agent = Agent()"
   ]
  },
  {
   "cell_type": "code",
   "execution_count": 3,
   "metadata": {},
   "outputs": [],
   "source": [
    "def play_once(env, agent):\n",
    "    observation = env.reset()\n",
    "    episode_reward = 0.\n",
    "    while True:\n",
    "        action = agent.decide(observation)\n",
    "        observation, reward, done, _ = env.step(action)\n",
    "        episode_reward += reward\n",
    "        if done:\n",
    "            break\n",
    "    return episode_reward"
   ]
  },
  {
   "cell_type": "markdown",
   "metadata": {},
   "source": [
    "Test 100 episodes"
   ]
  },
  {
   "cell_type": "code",
   "execution_count": 4,
   "metadata": {},
   "outputs": [
    {
     "name": "stdout",
     "output_type": "stream",
     "text": [
      "average episode rewards = -94.81\n"
     ]
    }
   ],
   "source": [
    "episode_rewards = [play_once(env, agent) for _ in range(100)]\n",
    "print('average episode rewards = {:.2f}'.format(np.mean(episode_rewards)))"
   ]
  },
  {
   "cell_type": "code",
   "execution_count": 5,
   "metadata": {},
   "outputs": [
    {
     "name": "stdout",
     "output_type": "stream",
     "text": [
      "average episode reward = -88.36 +- 3.31\n"
     ]
    }
   ],
   "source": [
    "average_episode_rewards = []\n",
    "for _ in range(100):\n",
    "    episode_rewards = [play_once(env, agent) for _ in range(100)]\n",
    "    average_episode_reward = np.mean(episode_rewards)    \n",
    "    average_episode_rewards.append(average_episode_reward)\n",
    "mean, std = np.mean(average_episode_rewards), np.std(average_episode_rewards)\n",
    "print('average episode reward = {:.2f} +- {:.2f}'.format(mean, std))"
   ]
  },
  {
   "cell_type": "code",
   "execution_count": 6,
   "metadata": {},
   "outputs": [],
   "source": [
    "env.close()"
   ]
  }
 ],
 "metadata": {
  "kernelspec": {
   "display_name": "Python 3",
   "language": "python",
   "name": "python3"
  },
  "language_info": {
   "codemirror_mode": {
    "name": "ipython",
    "version": 3
   },
   "file_extension": ".py",
   "mimetype": "text/x-python",
   "name": "python",
   "nbconvert_exporter": "python",
   "pygments_lexer": "ipython3",
   "version": "3.8.3"
  }
 },
 "nbformat": 4,
 "nbformat_minor": 2
}
