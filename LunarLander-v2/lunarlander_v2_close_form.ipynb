{
 "cells": [
  {
   "cell_type": "markdown",
   "metadata": {},
   "source": [
    "# Use a Fixed Deterministic Policy to Control LunderLander-v2\n",
    "\n",
    "### Policy\n",
    "\n",
    "The policy is adopted from `gym.envs.box2d.lunar_lander.demo_heuristic_lander`.\n",
    "\n",
    "Given the observation be $(x,y,v_x,v_y,\\theta,v_\\theta,i_\\text{left},i_\\text{right})$, define\n",
    "\n",
    "$f_y=\\begin{cases}5.5\\left|x\\right|-10y-10v_y-1,&i_\\text{left}=0,i_\\text{right}=0\\\\-10v_y-1,&\\text{otherwise}\\end{cases}$\n",
    "\n",
    "$f_\\theta=\\begin{cases}\\mathrm{clip}(5x+10v_x,-4,4)-10\\theta-20v_\\theta,&i_\\text{left}=0,i_\\text{right}=0\\\\0,&\\text{otherwise},\\end{cases}$\n",
    "\n",
    "and then the action\n",
    "$=\\begin{cases}\n",
    "0,&\\left|f_\\theta\\right|\\le1\\text{ and }f_y\\le0\n",
    "\\\\\n",
    "1,&f_\\theta>f_y+1\\left\\{y<0\\right\\}\n",
    "\\\\\n",
    "2,&\\left|f_\\theta\\right|<f_y\n",
    "\\\\\n",
    "3,&f_\\theta<-(f_y+1\\left\\{y<0\\right\\})\n",
    ".\\end{cases}$\n",
    "\n",
    "\n",
    "     \n",
    "### Test"
   ]
  },
  {
   "cell_type": "code",
   "execution_count": 1,
   "metadata": {},
   "outputs": [
    {
     "data": {
      "text/plain": [
       "[0]"
      ]
     },
     "execution_count": 1,
     "metadata": {},
     "output_type": "execute_result"
    }
   ],
   "source": [
    "import numpy as np\n",
    "import gym\n",
    "np.random.seed(0)\n",
    "env = gym.make('LunarLander-v2')\n",
    "env.seed(0)"
   ]
  },
  {
   "cell_type": "code",
   "execution_count": 2,
   "metadata": {},
   "outputs": [],
   "source": [
    "class Agent:\n",
    "    def decide(self, observation):\n",
    "        x, y, v_x, v_y, angle, v_angle, contact_left, contact_right = observation\n",
    "\n",
    "        if contact_left or contact_right: # legs have contact\n",
    "            f_y = -10. * v_y - 1.\n",
    "            f_angle = 0.\n",
    "        else:\n",
    "            f_y = 5.5 * np.abs(x) - 10. * y - 10. * v_y - 1.\n",
    "            f_angle = -np.clip(5. * x + 10. * v_x, -4, 4) + 10. * angle + 20. * v_angle\n",
    "\n",
    "        if np.abs(f_angle) <= 1 and f_y <= 0:\n",
    "            action = 0 # do nothing\n",
    "        elif np.abs(f_angle) < f_y:\n",
    "            action = 2 # main engine\n",
    "        elif f_angle < 0.:\n",
    "            action = 1 # left engine\n",
    "        else:\n",
    "            action = 3 # right engine\n",
    "        return action\n",
    "\n",
    "agent = Agent()"
   ]
  },
  {
   "cell_type": "code",
   "execution_count": 3,
   "metadata": {},
   "outputs": [],
   "source": [
    "def play_once(env, agent):\n",
    "    observation = env.reset()\n",
    "    episode_reward = 0.\n",
    "    while True:\n",
    "        action = agent.decide(observation)\n",
    "        observation, reward, done, _ = env.step(action)\n",
    "        episode_reward += reward\n",
    "        if done:\n",
    "            break\n",
    "    return episode_reward"
   ]
  },
  {
   "cell_type": "markdown",
   "metadata": {},
   "source": [
    "Test 100 episodes"
   ]
  },
  {
   "cell_type": "code",
   "execution_count": 4,
   "metadata": {},
   "outputs": [
    {
     "name": "stdout",
     "output_type": "stream",
     "text": [
      "average episode rewards = 262.72\n"
     ]
    }
   ],
   "source": [
    "episode_rewards = [play_once(env, agent) for _ in range(100)]\n",
    "print('average episode rewards = {:.2f}'.format(np.mean(episode_rewards)))"
   ]
  },
  {
   "cell_type": "markdown",
   "metadata": {},
   "source": [
    "Test 1000 episodes"
   ]
  },
  {
   "cell_type": "code",
   "execution_count": 5,
   "metadata": {},
   "outputs": [
    {
     "name": "stdout",
     "output_type": "stream",
     "text": [
      "average episode rewards = 262.56\n"
     ]
    }
   ],
   "source": [
    "episode_rewards = [play_once(env, agent) for _ in range(1000)]\n",
    "print('average episode rewards = {:.2f}'.format(np.mean(episode_rewards)))"
   ]
  },
  {
   "cell_type": "code",
   "execution_count": 6,
   "metadata": {},
   "outputs": [],
   "source": [
    "env.close()"
   ]
  }
 ],
 "metadata": {
  "kernelspec": {
   "display_name": "Python 3",
   "language": "python",
   "name": "python3"
  },
  "language_info": {
   "codemirror_mode": {
    "name": "ipython",
    "version": 3
   },
   "file_extension": ".py",
   "mimetype": "text/x-python",
   "name": "python",
   "nbconvert_exporter": "python",
   "pygments_lexer": "ipython3",
   "version": "3.8.3"
  }
 },
 "nbformat": 4,
 "nbformat_minor": 2
}
