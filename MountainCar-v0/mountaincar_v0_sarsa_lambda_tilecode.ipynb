{
 "cells": [
  {
   "cell_type": "markdown",
   "metadata": {},
   "source": [
    "# Solve MoutainCar-v0 using SARSA($\\lambda $) + TileCoding\n",
    "This notebook solves 'MountainCar-v0' within merely 75 episodes using SARSA($\\lambda $) and tile coding.\n",
    "\n",
    "**Method**\n",
    "- SARSA($\\lambda $) with $\\lambda = 0.9$ and replacement trace. Learning rate $\\alpha = 0.03$.\n",
    "- No discount $\\gamma = 1$. Exploration $\\epsilon = 0.001$.\n",
    "- Tile coding with asymmetrical offsets. $8$ layers and $\\le 2000$ features.\n",
    "- No reward engineering.\n",
    "\n",
    "**Reference**\n",
    "- Ana Mohamed's solution on MountainCar-v0, which also uses SARSA($\\lambda $) and tile coding: https://github.com/amohamed11/OpenAIGym-Solutions ."
   ]
  },
  {
   "cell_type": "code",
   "execution_count": 1,
   "metadata": {},
   "outputs": [],
   "source": [
    "%matplotlib inline\n",
    "import numpy as np\n",
    "np.random.seed(0)\n",
    "import gym\n",
    "import matplotlib.pyplot as plt"
   ]
  },
  {
   "cell_type": "markdown",
   "metadata": {},
   "source": [
    "### Construct Agent"
   ]
  },
  {
   "cell_type": "code",
   "execution_count": 2,
   "metadata": {},
   "outputs": [],
   "source": [
    "class TileCoder:\n",
    "    def __init__(self, layers, features):\n",
    "        \"\"\" \n",
    "        Parameters\n",
    "        - layers: int, the number of layers in tile coding\n",
    "        - features: int, the number of features, also the shape of weights\n",
    "        \"\"\"\n",
    "        self.layers = layers\n",
    "        self.features = features\n",
    "        self.codebook = {}\n",
    "    \n",
    "    def get_feature(self, codeword):\n",
    "        if codeword in self.codebook:\n",
    "            return self.codebook[codeword]\n",
    "        count = len(self.codebook)\n",
    "        if count >= self.features: # collide when codebook is full\n",
    "            return hash(codeword) % self.features\n",
    "        else:\n",
    "            self.codebook[codeword] = count\n",
    "            return count\n",
    "        \n",
    "    def __call__(self, floats=(), ints=()):\n",
    "        \"\"\" \n",
    "        Parameters\n",
    "        - floats: tuple of floats, each of which is within [0., 1.]\n",
    "        - ints: tuple of ints\n",
    "        Returns\n",
    "        - features : list of ints\n",
    "        \"\"\"\n",
    "        dim = len(floats)\n",
    "        scaled_floats = tuple(f * self.layers * self.layers for f in floats)\n",
    "        features = []\n",
    "        for layer in range(self.layers):\n",
    "            codeword = (layer,) + tuple(int((f + (1 + dim * i) * layer) / self.layers) \\\n",
    "                    for i, f in enumerate(scaled_floats)) + ints\n",
    "            feature = self.get_feature(codeword)\n",
    "            features.append(feature)\n",
    "        return features"
   ]
  },
  {
   "cell_type": "code",
   "execution_count": 3,
   "metadata": {},
   "outputs": [],
   "source": [
    "class SARSAAgent:\n",
    "    def __init__(self, env, layers=8, features=2000, gamma=1.,\n",
    "                learning_rate=0.03, epsilon=0.001):\n",
    "        self.action_n = env.action_space.n\n",
    "        self.obs_low = env.observation_space.low\n",
    "        self.obs_scale = env.observation_space.high - env.observation_space.low\n",
    "        self.encoder = TileCoder(layers, features)\n",
    "        self.w = np.zeros(features)\n",
    "        self.gamma = gamma\n",
    "        self.learning_rate = learning_rate\n",
    "        self.epsilon = epsilon\n",
    "        \n",
    "    def encode(self, observation, action):\n",
    "        states = tuple((observation - self.obs_low) / self.obs_scale)\n",
    "        actions = (action,)\n",
    "        return self.encoder(states, actions)\n",
    "    \n",
    "    def get_q(self, observation, action):\n",
    "        features = self.encode(observation, action)\n",
    "        return self.w[features].sum()\n",
    "    \n",
    "    def decide(self, observation):\n",
    "        if np.random.rand() < self.epsilon:\n",
    "            return np.random.randint(self.action_n)\n",
    "        else:\n",
    "            qs = [self.get_q(observation, action) for action in range(self.action_n)]\n",
    "            return np.argmax(qs)\n",
    "        \n",
    "    def learn(self, observation, action, reward, observation_next, done, action_next=None):\n",
    "        u = reward\n",
    "        if not done:\n",
    "            u += (self.gamma * self.get_q(observation_next, action_next))\n",
    "        delta = u - self.get_q(observation, action)\n",
    "        features = self.encode(observation, action)\n",
    "        self.w[features] += (self.learning_rate * delta)\n",
    "\n",
    "\n",
    "class SARSALambdaAgent(SARSAAgent):\n",
    "    def __init__(self, env, layers=8, features=2000, gamma=1.,\n",
    "                learning_rate=0.03, epsilon=0.001, lambd=0.9):\n",
    "        super().__init__(env=env, layers=layers, features=features,\n",
    "                gamma=gamma, learning_rate=learning_rate, epsilon=epsilon)\n",
    "        self.lambd = lambd\n",
    "        self.z = np.zeros(features)\n",
    "        \n",
    "    def learn(self, observation, action, reward, observation_next, done, action_next=None):\n",
    "        u = reward\n",
    "        if not done:\n",
    "            u += (self.gamma * self.get_q(observation_next, action_next))\n",
    "            self.z *= (self.gamma * self.lambd)\n",
    "            features = self.encode(observation, action)\n",
    "            self.z[features] = 1. # replacement trace\n",
    "        delta = u - self.get_q(observation, action)\n",
    "        self.w += (self.learning_rate * delta * self.z)\n",
    "        if done:\n",
    "            self.z = np.zeros_like(self.z)"
   ]
  },
  {
   "cell_type": "markdown",
   "metadata": {},
   "source": [
    "### Train"
   ]
  },
  {
   "cell_type": "code",
   "execution_count": 4,
   "metadata": {},
   "outputs": [],
   "source": [
    "def play_sarsa(env, agent, train=False, render=False):\n",
    "    episode_reward = 0\n",
    "    observation = env.reset()\n",
    "    action = agent.decide(observation)\n",
    "    while True:\n",
    "        if render:\n",
    "            env.render()\n",
    "        observation_next, reward, done, _ = env.step(action)\n",
    "        episode_reward += reward\n",
    "        if done:\n",
    "            if train:\n",
    "                agent.learn(observation, action, reward, observation_next, done)\n",
    "            break\n",
    "        action_next = agent.decide(observation_next)\n",
    "        if train:\n",
    "            agent.learn(observation, action, reward, observation_next, done, action_next)\n",
    "        observation, action = observation_next, action_next\n",
    "    return episode_reward"
   ]
  },
  {
   "cell_type": "code",
   "execution_count": 5,
   "metadata": {},
   "outputs": [
    {
     "name": "stderr",
     "output_type": "stream",
     "text": [
      "D:\\Programs\\Anaconda3\\lib\\site-packages\\gym\\envs\\registration.py:14: PkgResourcesDeprecationWarning: Parameters to load are deprecated.  Call .resolve and .require separately.\n",
      "  result = entry_point.load(False)\n"
     ]
    },
    {
     "name": "stdout",
     "output_type": "stream",
     "text": [
      "\u001b[33mWARN: gym.spaces.Box autodetected dtype as <class 'numpy.float32'>. Please provide explicit dtype.\u001b[0m\n"
     ]
    },
    {
     "data": {
      "image/png": "[encoded data removed]",
      "text/plain": [
       "<Figure size 432x288 with 1 Axes>"
      ]
     },
     "metadata": {
      "needs_background": "light"
     },
     "output_type": "display_data"
    }
   ],
   "source": [
    "env = gym.make('MountainCar-v0')\n",
    "env.seed(0)\n",
    "env = gym.wrappers.Monitor(env, \"./records\", video_callable=lambda _:True)\n",
    "\n",
    "agent = SARSALambdaAgent(env)  \n",
    "\n",
    "episodes = 75\n",
    "episode_rewards = []\n",
    "for episode in range(episodes):\n",
    "    episode_reward = play_sarsa(env, agent, train=True)\n",
    "    episode_rewards.append(episode_reward)\n",
    "    \n",
    "plt.plot(episode_rewards);"
   ]
  },
  {
   "cell_type": "markdown",
   "metadata": {},
   "source": [
    "### Test"
   ]
  },
  {
   "cell_type": "code",
   "execution_count": 6,
   "metadata": {},
   "outputs": [
    {
     "name": "stdout",
     "output_type": "stream",
     "text": [
      "average award = -10357.0 / 100 = -103.57\n"
     ]
    }
   ],
   "source": [
    "agent.epsilon = 0.\n",
    "episodes = 100\n",
    "episode_rewards = [play_sarsa(env, agent, train=False) for _ in range(episodes)]\n",
    "print('average award = {} / {} = {}'.format(\n",
    "        sum(episode_rewards), len(episode_rewards), np.mean(episode_rewards)))"
   ]
  },
  {
   "cell_type": "markdown",
   "metadata": {},
   "source": [
    "### Plot Policy"
   ]
  },
  {
   "cell_type": "code",
   "execution_count": 7,
   "metadata": {
    "scrolled": true
   },
   "outputs": [
    {
     "name": "stderr",
     "output_type": "stream",
     "text": [
      "D:\\Programs\\Anaconda3\\lib\\site-packages\\matplotlib\\figure.py:445: UserWarning: Matplotlib is currently using module://ipykernel.pylab.backend_inline, which is a non-GUI backend, so cannot show the figure.\n",
      "  % get_backend())\n"
     ]
    },
    {
     "data": {
      "image/png": "[encoded data removed]",
      "text/plain": [
       "<Figure size 432x288 with 2 Axes>"
      ]
     },
     "metadata": {
      "needs_background": "light"
     },
     "output_type": "display_data"
    }
   ],
   "source": [
    "poses = np.linspace(env.unwrapped.min_position, env.unwrapped.max_position, 256)\n",
    "vels = np.linspace(-env.unwrapped.max_speed, env.unwrapped.max_speed, 256)\n",
    "positions, velocities = np.meshgrid(poses, vels)\n",
    "\n",
    "@np.vectorize\n",
    "def decide(position, velocity):\n",
    "    return agent.decide((position, velocity))\n",
    "\n",
    "action_values = decide(positions, velocities)\n",
    "\n",
    "fig, ax = plt.subplots()\n",
    "c = ax.pcolormesh(positions, velocities, action_values)\n",
    "ax.set_xlabel('position')\n",
    "ax.set_ylabel('velocity')\n",
    "fig.colorbar(c, ax=ax, boundaries=[-.5, .5, 1.5, 2.5], ticks=[0, 1, 2])\n",
    "fig.show();"
   ]
  },
  {
   "cell_type": "markdown",
   "metadata": {},
   "source": [
    "### Save Agent"
   ]
  },
  {
   "cell_type": "code",
   "execution_count": 8,
   "metadata": {},
   "outputs": [],
   "source": [
    "import pickle\n",
    "with open('./resources/agent.pkl', 'wb') as file:\n",
    "    pickle.dump(agent, file)"
   ]
  },
  {
   "cell_type": "code",
   "execution_count": 9,
   "metadata": {},
   "outputs": [],
   "source": [
    "env.close()"
   ]
  }
 ],
 "metadata": {
  "kernelspec": {
   "display_name": "Python 3",
   "language": "python",
   "name": "python3"
  },
  "language_info": {
   "codemirror_mode": {
    "name": "ipython",
    "version": 3
   },
   "file_extension": ".py",
   "mimetype": "text/x-python",
   "name": "python",
   "nbconvert_exporter": "python",
   "pygments_lexer": "ipython3",
   "version": "3.7.1"
  }
 },
 "nbformat": 4,
 "nbformat_minor": 2
}
