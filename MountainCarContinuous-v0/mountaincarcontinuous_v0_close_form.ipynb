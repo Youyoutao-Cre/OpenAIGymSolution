{
 "cells": [
  {
   "cell_type": "markdown",
   "metadata": {},
   "source": [
    "# Solve MountainCarContinuous-v0 using a Fixed Deterministic Policy\n",
    "\n",
    "This notebook solves 'MountainCarContinuous-v0' using a fixed deterministic policy.\n",
    "\n",
    "### Policy\n",
    "\n",
    "Action equals +1 when\n",
    "\n",
    "$\\text{position} > -4 \\times \\text{velocity}$ or $\\text{position} < 13 \\times \\text{velocity} - 0.6$,\n",
    "\n",
    "otherwise push left."
   ]
  },
  {
   "cell_type": "code",
   "execution_count": 1,
   "metadata": {},
   "outputs": [
    {
     "data": {
      "text/plain": [
       "[0]"
      ]
     },
     "execution_count": 1,
     "metadata": {},
     "output_type": "execute_result"
    }
   ],
   "source": [
    "import itertools\n",
    "import numpy as np\n",
    "import gym\n",
    "np.random.seed(0)\n",
    "env = gym.make('MountainCarContinuous-v0')\n",
    "env.seed(0)"
   ]
  },
  {
   "cell_type": "code",
   "execution_count": 2,
   "metadata": {},
   "outputs": [],
   "source": [
    "class Agent:\n",
    "    def decide(self, observation):\n",
    "        position, velocity = observation\n",
    "        if position > -4 * velocity or position < 13 * velocity - 0.6:\n",
    "            force = 1.\n",
    "        else:\n",
    "            force = -1.\n",
    "        action = np.array([force,])\n",
    "        return action\n",
    "\n",
    "agent = Agent()"
   ]
  },
  {
   "cell_type": "code",
   "execution_count": 3,
   "metadata": {},
   "outputs": [],
   "source": [
    "def play_once(env, agent, render=False, verbose=False):\n",
    "    observation = env.reset()\n",
    "    episode_reward = 0.\n",
    "    for step in itertools.count():\n",
    "        if render:\n",
    "            env.render()\n",
    "        action = agent.decide(observation)\n",
    "        observation, reward, done, _ = env.step(action)\n",
    "        episode_reward += reward\n",
    "        if done:\n",
    "            break\n",
    "    if verbose:\n",
    "        print('get {} rewards in {} steps'.format(\n",
    "                episode_reward, step + 1))\n",
    "    return episode_reward"
   ]
  },
  {
   "cell_type": "markdown",
   "metadata": {},
   "source": [
    "Test 100 episode"
   ]
  },
  {
   "cell_type": "code",
   "execution_count": 4,
   "metadata": {},
   "outputs": [
    {
     "name": "stdout",
     "output_type": "stream",
     "text": [
      "average episode rewards = 93.35499999999998\n"
     ]
    }
   ],
   "source": [
    "episode_rewards = [play_once(env, agent) for _ in range(100)]\n",
    "print('average episode rewards = {}'.format(np.mean(episode_rewards)))"
   ]
  },
  {
   "cell_type": "markdown",
   "metadata": {},
   "source": [
    "Test 100000 episodes"
   ]
  },
  {
   "cell_type": "code",
   "execution_count": 5,
   "metadata": {},
   "outputs": [
    {
     "name": "stdout",
     "output_type": "stream",
     "text": [
      "average episode rewards = 93.357326\n"
     ]
    }
   ],
   "source": [
    "episode_rewards = [play_once(env, agent) for _ in range(100000)]\n",
    "print('average episode rewards = {}'.format(np.mean(episode_rewards)))"
   ]
  },
  {
   "cell_type": "code",
   "execution_count": 6,
   "metadata": {},
   "outputs": [],
   "source": [
    "env.close()"
   ]
  }
 ],
 "metadata": {
  "kernelspec": {
   "display_name": "Python 3",
   "language": "python",
   "name": "python3"
  },
  "language_info": {
   "codemirror_mode": {
    "name": "ipython",
    "version": 3
   },
   "file_extension": ".py",
   "mimetype": "text/x-python",
   "name": "python",
   "nbconvert_exporter": "python",
   "pygments_lexer": "ipython3",
   "version": "3.8.3"
  }
 },
 "nbformat": 4,
 "nbformat_minor": 2
}
